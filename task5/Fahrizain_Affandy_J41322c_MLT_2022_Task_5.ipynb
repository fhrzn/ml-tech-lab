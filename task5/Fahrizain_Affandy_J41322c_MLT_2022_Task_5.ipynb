{
 "cells": [
  {
   "cell_type": "markdown",
   "metadata": {},
   "source": [
    "# Convolutional Neural Network (CNN)\n",
    "In this notebook we will implement CNN to distinguish dogs from cats using PyTorch!\n",
    "\n",
    "Data:\n",
    "https://drive.google.com/drive/folders/1nzVk4GOvKR6P87uPszUkKMPtaXV_wrZf?usp=sharing"
   ]
  },
  {
   "cell_type": "markdown",
   "metadata": {},
   "source": [
    "## Import Libraries"
   ]
  },
  {
   "cell_type": "code",
   "execution_count": 1,
   "metadata": {},
   "outputs": [],
   "source": [
    "# pytorch\n",
    "import torch\n",
    "\n",
    "# dataset & pretrained model\n",
    "from torchvision import datasets, transforms, models\n",
    "\n",
    "# network\n",
    "from torch import nn\n",
    "from torch.optim import Adam\n",
    "\n",
    "import torch.nn.functional as F\n",
    "\n",
    "# visualization\n",
    "import matplotlib.pyplot as plt\n",
    "\n",
    "# I/O\n",
    "import os"
   ]
  },
  {
   "cell_type": "markdown",
   "metadata": {},
   "source": [
    "## Base Config\n",
    "Set base necessary variables"
   ]
  },
  {
   "cell_type": "code",
   "execution_count": 2,
   "metadata": {},
   "outputs": [],
   "source": [
    "# path\n",
    "TRAIN_PATH = './data/train/'\n",
    "VAL_PATH = './data/val/'\n",
    "TEST_PATH = './data/test'\n",
    "\n",
    "# batch size\n",
    "BATCH_SIZE = 64\n",
    "\n",
    "# device (CPU/GPU)\n",
    "DEVICE = torch.device('cuda' if torch.cuda.is_available else 'cpu')"
   ]
  },
  {
   "cell_type": "markdown",
   "metadata": {},
   "source": [
    "## Data Loader"
   ]
  },
  {
   "cell_type": "code",
   "execution_count": 3,
   "metadata": {},
   "outputs": [],
   "source": [
    "# (Optional) Define image augmentation\n",
    "train_transforms = transforms.Compose([\n",
    "    transforms.Resize(150),    \n",
    "    transforms.RandomRotation(45),\n",
    "    transforms.RandomHorizontalFlip(),\n",
    "    transforms.ToTensor(),\n",
    "    transforms.Normalize([.485, .456, .406], [.229, .224, .225])\n",
    "])\n",
    "\n",
    "val_transforms = transforms.Compose([\n",
    "    transforms.Resize(150),\n",
    "    transforms.ToTensor()\n",
    "])\n",
    "\n",
    "test_transforms = transforms.Compose([\n",
    "    transforms.Resize(150),\n",
    "    transforms.ToTensor()\n",
    "])"
   ]
  },
  {
   "cell_type": "code",
   "execution_count": 4,
   "metadata": {},
   "outputs": [],
   "source": [
    "# load data using ImageFolder\n",
    "train_data = datasets.ImageFolder(\n",
    "    TRAIN_PATH,\n",
    "    transform=train_transforms\n",
    ")\n",
    "\n",
    "val_data = datasets.ImageFolder(\n",
    "    VAL_PATH,\n",
    "    transform=val_transforms\n",
    ")\n",
    "\n",
    "test_data = datasets.ImageFolder(\n",
    "    TEST_PATH,\n",
    "    transform=test_transforms\n",
    ")"
   ]
  },
  {
   "cell_type": "code",
   "execution_count": 6,
   "metadata": {},
   "outputs": [],
   "source": [
    "# data loader / generator\n",
    "trainloader = torch.utils.data.DataLoader(\n",
    "    train_data, \n",
    "    batch_size=BATCH_SIZE, \n",
    "    shuffle=True\n",
    ")\n",
    "\n",
    "valloader = torch.utils.data.DataLoader(\n",
    "    val_data,\n",
    "    batch_size=BATCH_SIZE    \n",
    ")\n",
    "\n",
    "testloader = torch.utils.data.DataLoader(\n",
    "    test_data,\n",
    "    batch_size=BATCH_SIZE\n",
    ")"
   ]
  },
  {
   "cell_type": "markdown",
   "metadata": {},
   "source": [
    "## Task 1:\n",
    "\n",
    "1. Build and fit CNN with 3 convolutional layers for binary classification\n",
    "2. Evaluate accuracy on test data\n",
    "3. Plot the graphs for Loss(number_of_epochs) and Accuracy(number_of_epochs)"
   ]
  },
  {
   "cell_type": "markdown",
   "metadata": {},
   "source": [
    "### Network Architecture"
   ]
  },
  {
   "cell_type": "code",
   "execution_count": null,
   "metadata": {},
   "outputs": [],
   "source": []
  }
 ],
 "metadata": {
  "interpreter": {
   "hash": "49a3e1d03718a75483d59e7098aed45d369cd6c424a1fdf18bcb17a881710a11"
  },
  "kernelspec": {
   "display_name": "Python 3.8.8 ('base')",
   "language": "python",
   "name": "python3"
  },
  "language_info": {
   "codemirror_mode": {
    "name": "ipython",
    "version": 3
   },
   "file_extension": ".py",
   "mimetype": "text/x-python",
   "name": "python",
   "nbconvert_exporter": "python",
   "pygments_lexer": "ipython3",
   "version": "3.8.8"
  },
  "orig_nbformat": 4
 },
 "nbformat": 4,
 "nbformat_minor": 2
}
