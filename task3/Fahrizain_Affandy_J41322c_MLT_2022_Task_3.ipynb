{
 "cells": [
  {
   "cell_type": "markdown",
   "metadata": {},
   "source": [
    "# Neural Network Implementation"
   ]
  },
  {
   "cell_type": "markdown",
   "metadata": {},
   "source": [
    "## Setup Libraries"
   ]
  },
  {
   "cell_type": "code",
   "execution_count": 273,
   "metadata": {},
   "outputs": [],
   "source": [
    "# data manipulation\n",
    "import pandas as pd\n",
    "import numpy as np\n",
    "\n",
    "# data visualization\n",
    "import matplotlib.pyplot as plt\n",
    "import seaborn as sns\n",
    "\n",
    "# data split\n",
    "from sklearn.model_selection import train_test_split"
   ]
  },
  {
   "cell_type": "markdown",
   "metadata": {},
   "source": [
    "## Load and Prepare Dataset"
   ]
  },
  {
   "cell_type": "code",
   "execution_count": 274,
   "metadata": {},
   "outputs": [
    {
     "data": {
      "text/html": [
       "<div>\n",
       "<style scoped>\n",
       "    .dataframe tbody tr th:only-of-type {\n",
       "        vertical-align: middle;\n",
       "    }\n",
       "\n",
       "    .dataframe tbody tr th {\n",
       "        vertical-align: top;\n",
       "    }\n",
       "\n",
       "    .dataframe thead th {\n",
       "        text-align: right;\n",
       "    }\n",
       "</style>\n",
       "<table border=\"1\" class=\"dataframe\">\n",
       "  <thead>\n",
       "    <tr style=\"text-align: right;\">\n",
       "      <th></th>\n",
       "      <th>Activity</th>\n",
       "      <th>D1</th>\n",
       "      <th>D2</th>\n",
       "      <th>D3</th>\n",
       "      <th>D4</th>\n",
       "      <th>D5</th>\n",
       "      <th>D6</th>\n",
       "      <th>D7</th>\n",
       "      <th>D8</th>\n",
       "      <th>D9</th>\n",
       "      <th>...</th>\n",
       "      <th>D1767</th>\n",
       "      <th>D1768</th>\n",
       "      <th>D1769</th>\n",
       "      <th>D1770</th>\n",
       "      <th>D1771</th>\n",
       "      <th>D1772</th>\n",
       "      <th>D1773</th>\n",
       "      <th>D1774</th>\n",
       "      <th>D1775</th>\n",
       "      <th>D1776</th>\n",
       "    </tr>\n",
       "  </thead>\n",
       "  <tbody>\n",
       "    <tr>\n",
       "      <th>0</th>\n",
       "      <td>1</td>\n",
       "      <td>0.000000</td>\n",
       "      <td>0.497009</td>\n",
       "      <td>0.10</td>\n",
       "      <td>0.0</td>\n",
       "      <td>0.132956</td>\n",
       "      <td>0.678031</td>\n",
       "      <td>0.273166</td>\n",
       "      <td>0.585445</td>\n",
       "      <td>0.743663</td>\n",
       "      <td>...</td>\n",
       "      <td>0</td>\n",
       "      <td>0</td>\n",
       "      <td>0</td>\n",
       "      <td>0</td>\n",
       "      <td>0</td>\n",
       "      <td>0</td>\n",
       "      <td>0</td>\n",
       "      <td>0</td>\n",
       "      <td>0</td>\n",
       "      <td>0</td>\n",
       "    </tr>\n",
       "    <tr>\n",
       "      <th>1</th>\n",
       "      <td>1</td>\n",
       "      <td>0.366667</td>\n",
       "      <td>0.606291</td>\n",
       "      <td>0.05</td>\n",
       "      <td>0.0</td>\n",
       "      <td>0.111209</td>\n",
       "      <td>0.803455</td>\n",
       "      <td>0.106105</td>\n",
       "      <td>0.411754</td>\n",
       "      <td>0.836582</td>\n",
       "      <td>...</td>\n",
       "      <td>1</td>\n",
       "      <td>1</td>\n",
       "      <td>1</td>\n",
       "      <td>1</td>\n",
       "      <td>0</td>\n",
       "      <td>1</td>\n",
       "      <td>0</td>\n",
       "      <td>0</td>\n",
       "      <td>1</td>\n",
       "      <td>0</td>\n",
       "    </tr>\n",
       "    <tr>\n",
       "      <th>2</th>\n",
       "      <td>1</td>\n",
       "      <td>0.033300</td>\n",
       "      <td>0.480124</td>\n",
       "      <td>0.00</td>\n",
       "      <td>0.0</td>\n",
       "      <td>0.209791</td>\n",
       "      <td>0.610350</td>\n",
       "      <td>0.356453</td>\n",
       "      <td>0.517720</td>\n",
       "      <td>0.679051</td>\n",
       "      <td>...</td>\n",
       "      <td>0</td>\n",
       "      <td>0</td>\n",
       "      <td>0</td>\n",
       "      <td>0</td>\n",
       "      <td>0</td>\n",
       "      <td>0</td>\n",
       "      <td>0</td>\n",
       "      <td>0</td>\n",
       "      <td>0</td>\n",
       "      <td>0</td>\n",
       "    </tr>\n",
       "    <tr>\n",
       "      <th>3</th>\n",
       "      <td>1</td>\n",
       "      <td>0.000000</td>\n",
       "      <td>0.538825</td>\n",
       "      <td>0.00</td>\n",
       "      <td>0.5</td>\n",
       "      <td>0.196344</td>\n",
       "      <td>0.724230</td>\n",
       "      <td>0.235606</td>\n",
       "      <td>0.288764</td>\n",
       "      <td>0.805110</td>\n",
       "      <td>...</td>\n",
       "      <td>0</td>\n",
       "      <td>0</td>\n",
       "      <td>0</td>\n",
       "      <td>0</td>\n",
       "      <td>0</td>\n",
       "      <td>0</td>\n",
       "      <td>0</td>\n",
       "      <td>0</td>\n",
       "      <td>0</td>\n",
       "      <td>0</td>\n",
       "    </tr>\n",
       "    <tr>\n",
       "      <th>4</th>\n",
       "      <td>0</td>\n",
       "      <td>0.100000</td>\n",
       "      <td>0.517794</td>\n",
       "      <td>0.00</td>\n",
       "      <td>0.0</td>\n",
       "      <td>0.494734</td>\n",
       "      <td>0.781422</td>\n",
       "      <td>0.154361</td>\n",
       "      <td>0.303809</td>\n",
       "      <td>0.812646</td>\n",
       "      <td>...</td>\n",
       "      <td>0</td>\n",
       "      <td>0</td>\n",
       "      <td>0</td>\n",
       "      <td>0</td>\n",
       "      <td>0</td>\n",
       "      <td>0</td>\n",
       "      <td>0</td>\n",
       "      <td>0</td>\n",
       "      <td>0</td>\n",
       "      <td>0</td>\n",
       "    </tr>\n",
       "  </tbody>\n",
       "</table>\n",
       "<p>5 rows × 1777 columns</p>\n",
       "</div>"
      ],
      "text/plain": [
       "   Activity        D1        D2    D3   D4        D5        D6        D7  \\\n",
       "0         1  0.000000  0.497009  0.10  0.0  0.132956  0.678031  0.273166   \n",
       "1         1  0.366667  0.606291  0.05  0.0  0.111209  0.803455  0.106105   \n",
       "2         1  0.033300  0.480124  0.00  0.0  0.209791  0.610350  0.356453   \n",
       "3         1  0.000000  0.538825  0.00  0.5  0.196344  0.724230  0.235606   \n",
       "4         0  0.100000  0.517794  0.00  0.0  0.494734  0.781422  0.154361   \n",
       "\n",
       "         D8        D9  ...  D1767  D1768  D1769  D1770  D1771  D1772  D1773  \\\n",
       "0  0.585445  0.743663  ...      0      0      0      0      0      0      0   \n",
       "1  0.411754  0.836582  ...      1      1      1      1      0      1      0   \n",
       "2  0.517720  0.679051  ...      0      0      0      0      0      0      0   \n",
       "3  0.288764  0.805110  ...      0      0      0      0      0      0      0   \n",
       "4  0.303809  0.812646  ...      0      0      0      0      0      0      0   \n",
       "\n",
       "   D1774  D1775  D1776  \n",
       "0      0      0      0  \n",
       "1      0      1      0  \n",
       "2      0      0      0  \n",
       "3      0      0      0  \n",
       "4      0      0      0  \n",
       "\n",
       "[5 rows x 1777 columns]"
      ]
     },
     "execution_count": 274,
     "metadata": {},
     "output_type": "execute_result"
    }
   ],
   "source": [
    "df = pd.read_csv('bioresponse.csv')\n",
    "df.head()"
   ]
  },
  {
   "cell_type": "code",
   "execution_count": 275,
   "metadata": {},
   "outputs": [],
   "source": [
    "X = df.drop('Activity', axis=1).to_numpy()\n",
    "y = df[['Activity']].to_numpy()\n",
    "\n",
    "X_train, X_test, y_train, y_test = train_test_split(X, y, test_size=0.25, random_state=42)"
   ]
  },
  {
   "cell_type": "code",
   "execution_count": 276,
   "metadata": {},
   "outputs": [
    {
     "data": {
      "text/plain": [
       "((2813, 1776), (938, 1776), (2813, 1), (938, 1))"
      ]
     },
     "execution_count": 276,
     "metadata": {},
     "output_type": "execute_result"
    }
   ],
   "source": [
    "X_train.shape, X_test.shape, y_train.shape, y_test.shape"
   ]
  },
  {
   "cell_type": "code",
   "execution_count": 277,
   "metadata": {},
   "outputs": [],
   "source": [
    "X_train = X_train.T\n",
    "X_test = X_test.T\n",
    "y_train = y_train.T\n",
    "y_test = y_test.T"
   ]
  },
  {
   "cell_type": "code",
   "execution_count": 278,
   "metadata": {},
   "outputs": [
    {
     "data": {
      "text/plain": [
       "((1776, 2813), (1776, 938), (1, 2813), (1, 938))"
      ]
     },
     "execution_count": 278,
     "metadata": {},
     "output_type": "execute_result"
    }
   ],
   "source": [
    "X_train.shape, X_test.shape, y_train.shape, y_test.shape"
   ]
  },
  {
   "cell_type": "markdown",
   "metadata": {},
   "source": [
    "## Neural Network"
   ]
  },
  {
   "cell_type": "markdown",
   "metadata": {},
   "source": [
    "### Sigmoid"
   ]
  },
  {
   "cell_type": "code",
   "execution_count": 279,
   "metadata": {},
   "outputs": [],
   "source": [
    "# sigmoid\n",
    "\n",
    "def sigmoid(z):\n",
    "    \"\"\"\n",
    "    Compute the sigmoid of z\n",
    "\n",
    "    Arguments:\n",
    "    z -- A scalar or numpy array of any size.\n",
    "\n",
    "    Return:\n",
    "    s -- sigmoid(z)\n",
    "    \"\"\"\n",
    "    s = 1./(1.+np.exp(-z))\n",
    "    \n",
    "    return s"
   ]
  },
  {
   "cell_type": "markdown",
   "metadata": {},
   "source": [
    "### Initialize Parameters"
   ]
  },
  {
   "cell_type": "code",
   "execution_count": 280,
   "metadata": {},
   "outputs": [],
   "source": [
    "# initialize_with_zeros\n",
    "\n",
    "def initialize_with_zeros(dim):\n",
    "    \"\"\"\n",
    "    This function creates a vector of zeros of shape (dim, 1) for w and initializes b to 0.\n",
    "    \n",
    "    Argument:\n",
    "    dim -- size of the w vector we want (or number of parameters in this case)\n",
    "    \n",
    "    Returns:\n",
    "    w -- initialized vector of shape (dim, 1)\n",
    "    b -- initialized scalar (corresponds to the bias)\n",
    "    \"\"\"\n",
    "    w = np.zeros((dim,1))\n",
    "    b = 0.\n",
    "    \n",
    "    return w, b"
   ]
  },
  {
   "cell_type": "markdown",
   "metadata": {},
   "source": [
    "### Forward and Backward Propagation"
   ]
  },
  {
   "cell_type": "code",
   "execution_count": 281,
   "metadata": {},
   "outputs": [],
   "source": [
    "# propagate\n",
    "\n",
    "def propagate(w, b, X, Y):\n",
    "    \"\"\"\n",
    "    Implement the cost function and its gradient for the propagation explained above\n",
    "\n",
    "    Arguments:\n",
    "    w -- weights, a numpy array of size which equals the number of features\n",
    "    b -- bias, a scalar\n",
    "    X -- data \n",
    "    Y -- true \"label\" vector (containing 0 and 1) of size (1, number of examples)\n",
    "\n",
    "    Return:\n",
    "    cost -- negative log-likelihood cost for logistic regression\n",
    "    dw -- gradient of the loss with respect to w, thus same shape as w\n",
    "    db -- gradient of the loss with respect to b, thus same shape as b\n",
    "    \n",
    "    \"\"\"\n",
    "    m = X.shape[1]\n",
    "    #print('number of objects = ',len(X))\n",
    "    \n",
    "    # FORWARD PROPAGATION (FROM X TO COST)\n",
    "    A = sigmoid(np.dot(w.T,X)+b )                                 # compute activation\n",
    "    cost = -(1./m)*np.sum(Y*np.log(A)+(1-Y)*np.log(1-A),axis=1)   # compute cost\n",
    "    \n",
    "    # BACKWARD PROPAGATION (TO FIND GRAD)\n",
    "    dw = (1./m)*np.dot(X,(A-Y).T)\n",
    "    db = (1./m)*np.sum(A-Y,axis=1)\n",
    "\n",
    "    grads = {\"dw\": dw,\n",
    "             \"db\": db}\n",
    "    \n",
    "    return grads, cost"
   ]
  },
  {
   "cell_type": "markdown",
   "metadata": {},
   "source": [
    "### Optimization"
   ]
  },
  {
   "cell_type": "code",
   "execution_count": 282,
   "metadata": {},
   "outputs": [],
   "source": [
    "# optimize\n",
    "\n",
    "def gradient_descent(w, b, X, Y, num_iterations, learning_rate, print_cost = False):\n",
    "    \"\"\"\n",
    "    This function optimizes w and b by running a gradient descent algorithm\n",
    "    \n",
    "    Arguments:\n",
    "    w -- weights, a numpy array \n",
    "    b -- bias, a scalar\n",
    "    X -- data \n",
    "    Y -- true \"label\" vector (containing 0 and 1), of shape (1, number of examples)\n",
    "    num_iterations -- number of iterations of the optimization loop\n",
    "    learning_rate -- learning rate of the gradient descent update rule\n",
    "    print_cost -- True to print the loss every 100 steps\n",
    "    \n",
    "    Returns:\n",
    "    params -- dictionary containing the weights w and bias b\n",
    "    grads -- dictionary containing the gradients of the weights and bias with respect to the cost function\n",
    "    costs -- list of all the costs computed during the optimization, this will be used to plot the learning curve.\n",
    "    \n",
    "    \"\"\"\n",
    "    \n",
    "    costs = []\n",
    "    \n",
    "    for i in range(num_iterations):\n",
    "                \n",
    "        # Cost and gradient calculation \n",
    "        grads, cost = propagate(w,b,X,Y)        \n",
    "        \n",
    "        # Retrieve derivatives from grads\n",
    "        dw = grads[\"dw\"]\n",
    "        db = grads[\"db\"]\n",
    "        \n",
    "        # update rule\n",
    "        w -=learning_rate*dw\n",
    "        b -=learning_rate*db\n",
    "        \n",
    "        # Record the costs\n",
    "        if i % 100 == 0:\n",
    "            costs.append(cost)\n",
    "        \n",
    "        # Print the cost every 100 training iterations\n",
    "        if print_cost and i % 100 == 0:\n",
    "            print (\"Cost after iteration %i: %f\" %(i, cost))\n",
    "    \n",
    "    params = {\"w\": w,\n",
    "              \"b\": b}\n",
    "    \n",
    "    grads = {\"dw\": dw,\n",
    "             \"db\": db}\n",
    "    \n",
    "    return params, grads, costs"
   ]
  },
  {
   "cell_type": "code",
   "execution_count": 309,
   "metadata": {},
   "outputs": [],
   "source": [
    "def SGD(w, b, X, Y, epoch, learning_rate, verbose=False):\n",
    "\n",
    "    costs = []\n",
    "\n",
    "    for i in range(epoch):\n",
    "\n",
    "        # minibatch\n",
    "        for j in range(X.shape[1]):\n",
    "\n",
    "            # get single sample\n",
    "            point_x = X[:, j]\n",
    "            point_x = point_x.reshape(point_x.shape[0], 1)\n",
    "            point_y = Y[:, j]\n",
    "            \n",
    "            # calculate gradient and cost function\n",
    "            grads, cost = propagate(w, b, point_x, point_y)\n",
    "            dw, db = grads[\"dw\"], grads[\"db\"]\n",
    "\n",
    "            # update\n",
    "            w -= learning_rate * dw\n",
    "            b -= learning_rate * db\n",
    "\n",
    "        _, cost = propagate(w, b, X, Y)\n",
    "        # record the costs\n",
    "        if i % 100 == 0:\n",
    "            costs.append(cost)\n",
    "\n",
    "        # print the cost every 100 training iterations\n",
    "        if verbose and i % 100 == 0:\n",
    "            print('Cost after iteration %i: %f' % (i, cost))\n",
    "        \n",
    "    params = {\"w\": w,\n",
    "                \"b\": b}\n",
    "\n",
    "    grads = {\"dw\": dw,\n",
    "                \"db\": db}\n",
    "\n",
    "    return params, grads, costs"
   ]
  },
  {
   "cell_type": "code",
   "execution_count": 289,
   "metadata": {},
   "outputs": [],
   "source": [
    "def Adam(w, b, X, Y, epoch, learning_rate, verbose=False, beta1=0.9, beta2=0.999, constant=1e-8):\n",
    "    \n",
    "    costs = []\n",
    "    vdw, vdb = 0, 0     # moment\n",
    "    sdw, sdb = 0, 0     # rmsprop\n",
    "    iter = 1\n",
    "\n",
    "    for e in range(epoch):        \n",
    "\n",
    "        # calculate gradient and cost function\n",
    "        grads, cost = propagate(w, b, X, Y)\n",
    "        dw, db = grads[\"dw\"], grads[\"db\"]\n",
    "\n",
    "        # moment\n",
    "        vdw = (beta1 * vdw) + ((1 - beta1) * dw)\n",
    "        vdb = (beta1 * vdb) + ((1 - beta1) * db)\n",
    "\n",
    "        # rmsprop\n",
    "        sdw = (beta2 * sdw) + ((1 - beta2) * (dw ** 2))\n",
    "        sdb = (beta2 * sdb) + ((1 - beta2) * (db ** 2))\n",
    "\n",
    "        # corrected\n",
    "        vdw_corr = vdw / (1 - beta1 ** iter)\n",
    "        vdb_corr = vdb / (1 - beta1 ** iter)\n",
    "        sdw_corr = sdw / (1 - beta2 ** iter)\n",
    "        sdb_corr = sdb / (1 - beta2 ** iter)\n",
    "\n",
    "        # update weight\n",
    "        w -= learning_rate * vdw_corr / (np.sqrt(sdw_corr) + constant)\n",
    "        b -= learning_rate * vdb_corr / (np.sqrt(sdb_corr) + constant)\n",
    "\n",
    "        # record the cost\n",
    "        if e % 100 == 0:\n",
    "            costs.append(cost)\n",
    "\n",
    "        # print the cost every 100 training iterations\n",
    "        if verbose and e % 100 == 0:\n",
    "            print (\"Cost after iteration %i: %f\" %(e, cost))\n",
    "\n",
    "        iter += 1\n",
    "\n",
    "    params = {\"w\": w,\n",
    "              \"b\": b}\n",
    "\n",
    "    grads = {\"dw\": dw,\n",
    "             \"db\": db}\n",
    "\n",
    "    return params, grads, costs\n",
    "        "
   ]
  },
  {
   "cell_type": "markdown",
   "metadata": {},
   "source": [
    "### Prediction"
   ]
  },
  {
   "cell_type": "code",
   "execution_count": 285,
   "metadata": {},
   "outputs": [],
   "source": [
    "# predict\n",
    "\n",
    "def predict(w, b, X):\n",
    "    '''\n",
    "    Predict whether the label is 0 or 1 using learned logistic regression parameters (w, b)\n",
    "    \n",
    "    Arguments:\n",
    "    w -- weights, a numpy array \n",
    "    b -- bias, a scalar\n",
    "    X -- data \n",
    "    \n",
    "    Returns:\n",
    "    Y_prediction -- a numpy array (vector) containing all predictions (0/1) for the examples in X\n",
    "    '''\n",
    "    \n",
    "    m = X.shape[1]\n",
    "    Y_prediction = np.zeros((1,m))\n",
    "    w = w.reshape(X.shape[0], 1)\n",
    "    \n",
    "    # Compute vector \"A\" predicting the probabilities \n",
    "    A = sigmoid(np.dot(w.T,X)+b)\n",
    "    \n",
    "    for i in range(A.shape[1]):\n",
    "        \n",
    "        # Convert probabilities A[0,i] to actual predictions p[0,i]\n",
    "        if (A[0,i]<=0.5):\n",
    "            Y_prediction[0][i]=0\n",
    "        else:\n",
    "            Y_prediction[0][i]=1\n",
    "    \n",
    "    return Y_prediction"
   ]
  },
  {
   "cell_type": "markdown",
   "metadata": {},
   "source": [
    "### Merge into a Model"
   ]
  },
  {
   "cell_type": "code",
   "execution_count": 286,
   "metadata": {},
   "outputs": [],
   "source": [
    "# model\n",
    "\n",
    "def model(X_train, Y_train, X_test, Y_test, num_iterations=2000, learning_rate=0.5, optimizer='GD', print_cost=False):\n",
    "    \"\"\"\n",
    "    Builds the logistic regression model by calling the function we've implemented previously\n",
    "    \n",
    "    Arguments:\n",
    "    X_train -- training set represented by a numpy array \n",
    "    Y_train -- training labels represented by a numpy array (vector) of shape (1, m_train)\n",
    "    X_test -- test set represented by a numpy array \n",
    "    Y_test -- test labels represented by a numpy array (vector) of shape (1, m_test)\n",
    "    num_iterations -- hyperparameter representing the number of iterations to optimize the parameters\n",
    "    learning_rate -- hyperparameter representing the learning rate used in the update rule of optimize()\n",
    "    print_cost -- Set to true to print the cost every 100 iterations\n",
    "    \n",
    "    Returns:\n",
    "    d -- dictionary containing information about the model.\n",
    "    \"\"\"\n",
    "    \n",
    "    # initialize parameters with zeros \n",
    "    w, b = initialize_with_zeros(X_train.shape[0])\n",
    "\n",
    "    # optimizer\n",
    "    assert optimizer != None\n",
    "    if optimizer == 'GD':\n",
    "        # Gradient descent\n",
    "        parameters, grads, costs = gradient_descent(w, b, X_train, Y_train, num_iterations, learning_rate, print_cost)\n",
    "    elif optimizer == 'SGD':\n",
    "        parameters, grads, costs = SGD(w, b, X_train, Y_train, num_iterations, learning_rate, print_cost)\n",
    "    elif optimizer == 'Adam':\n",
    "        parameters, grads, costs = Adam(w, b, X_train, Y_train, num_iterations, learning_rate, print_cost)    \n",
    "    \n",
    "    # Retrieve parameters w and b from dictionary \"parameters\"\n",
    "    w = parameters[\"w\"]\n",
    "    b = parameters[\"b\"]\n",
    "    \n",
    "    # Predict test/train set examples\n",
    "    Y_prediction_test = predict(w, b, X_test)\n",
    "    Y_prediction_train = predict(w, b, X_train)\n",
    "\n",
    "    # Print train/test Errors\n",
    "    print(\"train accuracy: {} %\".format(100 - np.mean(np.abs(Y_prediction_train - Y_train)) * 100))\n",
    "    print(\"test accuracy: {} %\".format(100 - np.mean(np.abs(Y_prediction_test - Y_test)) * 100))\n",
    "\n",
    "    d = {\"costs\": costs,\n",
    "         \"Y_prediction_test\": Y_prediction_test, \n",
    "         \"Y_prediction_train\" : Y_prediction_train, \n",
    "         \"w\" : w, \n",
    "         \"b\" : b,\n",
    "         \"learning_rate\" : learning_rate,\n",
    "         \"num_iterations\": num_iterations}\n",
    "    \n",
    "    return d"
   ]
  },
  {
   "cell_type": "markdown",
   "metadata": {},
   "source": [
    "## Train Model"
   ]
  },
  {
   "cell_type": "code",
   "execution_count": 287,
   "metadata": {},
   "outputs": [
    {
     "name": "stdout",
     "output_type": "stream",
     "text": [
      "Cost after iteration 0: 0.693147\n",
      "Cost after iteration 100: 0.681095\n",
      "Cost after iteration 200: 0.673994\n",
      "Cost after iteration 300: 0.667662\n",
      "Cost after iteration 400: 0.661794\n",
      "Cost after iteration 500: 0.656314\n",
      "Cost after iteration 600: 0.651172\n",
      "Cost after iteration 700: 0.646329\n",
      "Cost after iteration 800: 0.641754\n",
      "Cost after iteration 900: 0.637419\n",
      "Cost after iteration 1000: 0.633303\n",
      "Cost after iteration 1100: 0.629386\n",
      "Cost after iteration 1200: 0.625651\n",
      "Cost after iteration 1300: 0.622084\n",
      "Cost after iteration 1400: 0.618672\n",
      "Cost after iteration 1500: 0.615404\n",
      "Cost after iteration 1600: 0.612268\n",
      "Cost after iteration 1700: 0.609257\n",
      "Cost after iteration 1800: 0.606360\n",
      "Cost after iteration 1900: 0.603572\n",
      "train accuracy: 72.52044081052257 %\n",
      "test accuracy: 72.70788912579957 %\n"
     ]
    }
   ],
   "source": [
    "# Gradient Descent\n",
    "d = model(X_train, y_train, X_test, y_test, num_iterations=2000, learning_rate=1e-3, print_cost=True)"
   ]
  },
  {
   "cell_type": "code",
   "execution_count": 297,
   "metadata": {},
   "outputs": [
    {
     "name": "stdout",
     "output_type": "stream",
     "text": [
      "Cost after iteration 0: 0.780551\n",
      "Cost after iteration 100: 0.685128\n",
      "Cost after iteration 200: 0.596421\n",
      "Cost after iteration 300: 0.573102\n",
      "Cost after iteration 400: 0.564493\n",
      "Cost after iteration 500: 0.560631\n",
      "Cost after iteration 600: 0.558637\n",
      "Cost after iteration 700: 0.557473\n",
      "Cost after iteration 800: 0.556687\n",
      "Cost after iteration 900: 0.556041\n",
      "Cost after iteration 1000: 0.555404\n",
      "Cost after iteration 1100: 0.554712\n",
      "Cost after iteration 1200: 0.553942\n",
      "Cost after iteration 1300: 0.553095\n",
      "Cost after iteration 1400: 0.552180\n",
      "Cost after iteration 1500: 0.551215\n",
      "Cost after iteration 1600: 0.550214\n",
      "Cost after iteration 1700: 0.549191\n",
      "Cost after iteration 1800: 0.548156\n",
      "Cost after iteration 1900: 0.547116\n",
      "train accuracy: 90.97049413437611 %\n",
      "test accuracy: 75.69296375266525 %\n"
     ]
    }
   ],
   "source": [
    "# SGD\n",
    "d = model(X_train, y_train, X_test, y_test, num_iterations=2000, learning_rate=1e-3, optimizer='SGD', print_cost=True)"
   ]
  },
  {
   "cell_type": "code",
   "execution_count": 298,
   "metadata": {},
   "outputs": [
    {
     "name": "stdout",
     "output_type": "stream",
     "text": [
      "train accuracy: 87.8066121578386 %\n",
      "test accuracy: 76.43923240938166 %\n"
     ]
    }
   ],
   "source": [
    "# Adam\n",
    "d = model(X_train, y_train, X_test, y_test, num_iterations=2000, learning_rate=1e-3, optimizer='Adam', print_cost=True)"
   ]
  },
  {
   "cell_type": "markdown",
   "metadata": {},
   "source": [
    "## Perform Comparison on Different Optimization Algorithm\n",
    "Here we will use several learning rate as follows:\n",
    "- 1e-3\n",
    "- 1e-4\n",
    "- 1e-5\n",
    "- 1e-6\n",
    "- 1e-7"
   ]
  },
  {
   "cell_type": "markdown",
   "metadata": {},
   "source": [
    "### Learning Rate = 0.001"
   ]
  },
  {
   "cell_type": "code",
   "execution_count": 312,
   "metadata": {},
   "outputs": [
    {
     "name": "stdout",
     "output_type": "stream",
     "text": [
      "Gradient Descent\n",
      "train accuracy: 72.52044081052257 %\n",
      "test accuracy: 72.70788912579957 %\n",
      "--------------------------------------------------\n",
      "Stochastic Gradient Descent\n",
      "train accuracy: 90.97049413437611 %\n",
      "test accuracy: 75.69296375266525 %\n",
      "--------------------------------------------------\n",
      "Adam\n",
      "train accuracy: 87.8066121578386 %\n",
      "test accuracy: 76.43923240938166 %\n"
     ]
    }
   ],
   "source": [
    "# learning rate\n",
    "lr = 1e-3\n",
    "\n",
    "print('Gradient Descent')\n",
    "gd_1e3 = model(X_train, y_train, X_test, y_test, num_iterations=2000, learning_rate=lr, print_cost=False)\n",
    "print('-' * 50)\n",
    "print('Stochastic Gradient Descent')\n",
    "sgd_1e3 = model(X_train, y_train, X_test, y_test, num_iterations=2000, learning_rate=lr, optimizer='SGD', print_cost=False)\n",
    "print('-' * 50)\n",
    "print('Adam')\n",
    "adam_1e3 = model(X_train, y_train, X_test, y_test, num_iterations=2000, learning_rate=lr, optimizer='Adam', print_cost=False)"
   ]
  },
  {
   "cell_type": "code",
   "execution_count": 313,
   "metadata": {},
   "outputs": [
    {
     "data": {
      "image/png": "[encoded data removed]",
      "text/plain": [
       "<Figure size 576x360 with 1 Axes>"
      ]
     },
     "metadata": {
      "needs_background": "light"
     },
     "output_type": "display_data"
    }
   ],
   "source": [
    "range_iter = np.arange(gd_1e3['num_iterations'], step=100)\n",
    "\n",
    "plt.figure(figsize=(8,5))\n",
    "plt.plot(range_iter, gd_1e3['costs'], label='Gradient Descent')\n",
    "plt.plot(range_iter, sgd_1e3['costs'], label='Stochastic GD')\n",
    "plt.plot(range_iter, adam_1e3['costs'], label='Adam')\n",
    "plt.xlabel('Epochs')\n",
    "plt.ylabel('Loss')\n",
    "plt.title('Learning rate 0.001 (1e-3)')\n",
    "plt.legend()\n",
    "plt.show()"
   ]
  },
  {
   "cell_type": "markdown",
   "metadata": {},
   "source": [
    "### Learning Rate = 0.0001"
   ]
  },
  {
   "cell_type": "code",
   "execution_count": 314,
   "metadata": {},
   "outputs": [
    {
     "name": "stdout",
     "output_type": "stream",
     "text": [
      "Gradient Descent\n",
      "train accuracy: 57.625311055812304 %\n",
      "test accuracy: 60.66098081023454 %\n",
      "--------------------------------------------------\n",
      "Stochastic Gradient Descent\n",
      "train accuracy: 85.92250266619267 %\n",
      "test accuracy: 75.79957356076758 %\n",
      "--------------------------------------------------\n",
      "Adam\n",
      "train accuracy: 79.2036971205119 %\n",
      "test accuracy: 74.09381663113007 %\n"
     ]
    }
   ],
   "source": [
    "# learning rate\n",
    "lr = 1e-4\n",
    "\n",
    "print('Gradient Descent')\n",
    "gd_1e4 = model(X_train, y_train, X_test, y_test, num_iterations=2000, learning_rate=lr, print_cost=False)\n",
    "print('-' * 50)\n",
    "print('Stochastic Gradient Descent')\n",
    "sgd_1e4 = model(X_train, y_train, X_test, y_test, num_iterations=2000, learning_rate=lr, optimizer='SGD', print_cost=False)\n",
    "print('-' * 50)\n",
    "print('Adam')\n",
    "adam_1e4 = model(X_train, y_train, X_test, y_test, num_iterations=2000, learning_rate=lr, optimizer='Adam', print_cost=False)"
   ]
  },
  {
   "cell_type": "code",
   "execution_count": 315,
   "metadata": {},
   "outputs": [
    {
     "data": {
      "image/png": "[encoded data removed]",
      "text/plain": [
       "<Figure size 576x360 with 1 Axes>"
      ]
     },
     "metadata": {
      "needs_background": "light"
     },
     "output_type": "display_data"
    }
   ],
   "source": [
    "range_iter = np.arange(gd_1e3['num_iterations'], step=100)\n",
    "\n",
    "plt.figure(figsize=(8,5))\n",
    "plt.plot(range_iter, gd_1e4['costs'], label='Gradient Descent')\n",
    "plt.plot(range_iter, sgd_1e4['costs'], label='Stochastic GD')\n",
    "plt.plot(range_iter, adam_1e4['costs'], label='Adam')\n",
    "plt.xlabel('Epochs')\n",
    "plt.ylabel('Loss')\n",
    "plt.title('Learning rate 0.0001 (1e-4)')\n",
    "plt.legend()\n",
    "plt.show()"
   ]
  },
  {
   "cell_type": "markdown",
   "metadata": {},
   "source": [
    "### Learning Rate = 0.00001"
   ]
  },
  {
   "cell_type": "code",
   "execution_count": 310,
   "metadata": {},
   "outputs": [
    {
     "name": "stdout",
     "output_type": "stream",
     "text": [
      "Gradient Descent\n",
      "train accuracy: 53.288304301457515 %\n",
      "test accuracy: 57.0362473347548 %\n",
      "--------------------------------------------------\n",
      "Stochastic Gradient Descent\n",
      "train accuracy: 80.87451119800924 %\n",
      "test accuracy: 76.97228144989339 %\n",
      "--------------------------------------------------\n",
      "Adam\n",
      "train accuracy: 66.79701386420192 %\n",
      "test accuracy: 67.59061833688699 %\n"
     ]
    }
   ],
   "source": [
    "# learning rate\n",
    "lr = 1e-5\n",
    "\n",
    "print('Gradient Descent')\n",
    "gd_1e5 = model(X_train, y_train, X_test, y_test, num_iterations=2000, learning_rate=lr, print_cost=False)\n",
    "print('-' * 50)\n",
    "print('Stochastic Gradient Descent')\n",
    "sgd_1e5 = model(X_train, y_train, X_test, y_test, num_iterations=2000, learning_rate=lr, optimizer='SGD', print_cost=False)\n",
    "print('-' * 50)\n",
    "print('Adam')\n",
    "adam_1e5 = model(X_train, y_train, X_test, y_test, num_iterations=2000, learning_rate=lr, optimizer='Adam', print_cost=False)"
   ]
  },
  {
   "cell_type": "code",
   "execution_count": 311,
   "metadata": {},
   "outputs": [
    {
     "data": {
      "image/png": "[encoded data removed]",
      "text/plain": [
       "<Figure size 576x360 with 1 Axes>"
      ]
     },
     "metadata": {
      "needs_background": "light"
     },
     "output_type": "display_data"
    }
   ],
   "source": [
    "plt.figure(figsize=(8,5))\n",
    "plt.plot(range_iter, gd_1e5['costs'], label='Gradient Descent')\n",
    "plt.plot(range_iter, sgd_1e5['costs'], label='Stochastic GD')\n",
    "plt.plot(range_iter, adam_1e5['costs'], label='Adam')\n",
    "plt.xlabel('Epochs')\n",
    "plt.ylabel('Loss')\n",
    "plt.title('Learning rate 0.00001 (1e-5)')\n",
    "plt.legend()\n",
    "plt.show()"
   ]
  },
  {
   "cell_type": "markdown",
   "metadata": {},
   "source": [
    "### Learning Rate = 0.000001"
   ]
  },
  {
   "cell_type": "code",
   "execution_count": 316,
   "metadata": {},
   "outputs": [
    {
     "name": "stdout",
     "output_type": "stream",
     "text": [
      "Gradient Descent\n",
      "train accuracy: 53.288304301457515 %\n",
      "test accuracy: 57.0362473347548 %\n",
      "--------------------------------------------------\n",
      "Stochastic Gradient Descent\n",
      "train accuracy: 75.43547813722004 %\n",
      "test accuracy: 73.66737739872069 %\n",
      "--------------------------------------------------\n",
      "Adam\n",
      "train accuracy: 53.32385353714895 %\n",
      "test accuracy: 57.142857142857146 %\n"
     ]
    }
   ],
   "source": [
    "# learning rate\n",
    "lr = 1e-6\n",
    "\n",
    "print('Gradient Descent')\n",
    "gd_1e6 = model(X_train, y_train, X_test, y_test, num_iterations=2000, learning_rate=lr, print_cost=False)\n",
    "print('-' * 50)\n",
    "print('Stochastic Gradient Descent')\n",
    "sgd_1e6 = model(X_train, y_train, X_test, y_test, num_iterations=2000, learning_rate=lr, optimizer='SGD', print_cost=False)\n",
    "print('-' * 50)\n",
    "print('Adam')\n",
    "adam_1e6 = model(X_train, y_train, X_test, y_test, num_iterations=2000, learning_rate=lr, optimizer='Adam', print_cost=False)"
   ]
  },
  {
   "cell_type": "code",
   "execution_count": 317,
   "metadata": {},
   "outputs": [
    {
     "data": {
      "image/png": "[encoded data removed]",
      "text/plain": [
       "<Figure size 576x360 with 1 Axes>"
      ]
     },
     "metadata": {
      "needs_background": "light"
     },
     "output_type": "display_data"
    }
   ],
   "source": [
    "plt.figure(figsize=(8,5))\n",
    "plt.plot(range_iter, gd_1e6['costs'], label='Gradient Descent')\n",
    "plt.plot(range_iter, sgd_1e6['costs'], label='Stochastic GD')\n",
    "plt.plot(range_iter, adam_1e6['costs'], label='Adam')\n",
    "plt.xlabel('Epochs')\n",
    "plt.ylabel('Loss')\n",
    "plt.title('Learning rate 0.000001 (1e-6)')\n",
    "plt.legend()\n",
    "plt.show()"
   ]
  }
 ],
 "metadata": {
  "interpreter": {
   "hash": "40d3a090f54c6569ab1632332b64b2c03c39dcf918b08424e98f38b5ae0af88f"
  },
  "kernelspec": {
   "display_name": "Python 3.8.8 ('base')",
   "language": "python",
   "name": "python3"
  },
  "language_info": {
   "codemirror_mode": {
    "name": "ipython",
    "version": 3
   },
   "file_extension": ".py",
   "mimetype": "text/x-python",
   "name": "python",
   "nbconvert_exporter": "python",
   "pygments_lexer": "ipython3",
   "version": "3.8.8"
  },
  "orig_nbformat": 4
 },
 "nbformat": 4,
 "nbformat_minor": 2
}
